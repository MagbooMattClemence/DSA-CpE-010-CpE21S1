{
  "nbformat": 4,
  "nbformat_minor": 0,
  "metadata": {
    "colab": {
      "provenance": [],
      "authorship_tag": "ABX9TyNiA4Q3cNrGpS6h43NkKHFk",
      "include_colab_link": true
    },
    "kernelspec": {
      "name": "python3",
      "display_name": "Python 3"
    },
    "language_info": {
      "name": "python"
    }
  },
  "cells": [
    {
      "cell_type": "markdown",
      "metadata": {
        "id": "view-in-github",
        "colab_type": "text"
      },
      "source": [
        "<a href=\"https://colab.research.google.com/github/potemkin101/DSA-CpE-010-CpE21S1/blob/main/HOA1.1%20Additional%202-6.ipynb\" target=\"_parent\"><img src=\"https://colab.research.google.com/assets/colab-badge.svg\" alt=\"Open In Colab\"/></a>"
      ]
    },
    {
      "cell_type": "markdown",
      "source": [
        "Write an algorithm to read 100 numbers and then display the sum."
      ],
      "metadata": {
        "id": "yxpquYY9EbNl"
      }
    },
    {
      "cell_type": "code",
      "execution_count": null,
      "metadata": {
        "colab": {
          "base_uri": "https://localhost:8080/"
        },
        "id": "4X-vDdjI3KQ5",
        "outputId": "73e260ca-22a3-4a63-d5f9-4751349c7bc3"
      },
      "outputs": [
        {
          "name": "stdout",
          "output_type": "stream",
          "text": [
            "Enter number 1: 100\n",
            "Enter number 2: 100\n"
          ]
        }
      ],
      "source": [
        "sum = 0\n",
        "counter = 1\n",
        "\n",
        "while counter <= 100:\n",
        "\n",
        "    number = float(input(f\"Enter number {counter}: \"))\n",
        "    sum += number\n",
        "    counter += 1\n",
        "\n",
        "print(f\"Sum of 100 numbers: {sum}\")"
      ]
    },
    {
      "cell_type": "markdown",
      "source": [
        "Write an algorithm to read two numbers then display the largest."
      ],
      "metadata": {
        "id": "4TiZ5SxXEeIl"
      }
    },
    {
      "cell_type": "code",
      "source": [
        "num1 = float(input(\"Enter the first number: \"))\n",
        "num2 = float(input(\"Enter the second number: \"))\n",
        "\n",
        "if num1 > num2:\n",
        "    print(f\"{num1} is the largest.\")\n",
        "else:\n",
        "    print(f\"{num2} is the largest.\")"
      ],
      "metadata": {
        "colab": {
          "base_uri": "https://localhost:8080/"
        },
        "id": "6TBFZmDjEi7Q",
        "outputId": "ec8ae68f-10f8-4cfd-8e66-b99619e1e040"
      },
      "execution_count": 4,
      "outputs": [
        {
          "output_type": "stream",
          "name": "stdout",
          "text": [
            "Enter the first number: 21\n",
            "Enter the second number: 20\n",
            "21.0 is the largest.\n"
          ]
        }
      ]
    },
    {
      "cell_type": "markdown",
      "source": [
        "Write an algorithm to read two numbers then display the smallest"
      ],
      "metadata": {
        "id": "JH_kM-3REwQP"
      }
    },
    {
      "cell_type": "code",
      "source": [
        "num1 = float(input(\"Enter the first number: \"))\n",
        "num2 = float(input(\"Enter the second number: \"))\n",
        "\n",
        "smallest = min(num1, num2)\n",
        "\n",
        "print(f\"The Smallest number is: {smallest}\")"
      ],
      "metadata": {
        "colab": {
          "base_uri": "https://localhost:8080/"
        },
        "id": "En7vcpj1E07-",
        "outputId": "e8700df1-2fea-4024-ac59-80810c2511aa"
      },
      "execution_count": 5,
      "outputs": [
        {
          "output_type": "stream",
          "name": "stdout",
          "text": [
            "Enter the first number: 8\n",
            "Enter the second number: 12\n",
            "The Smallest number is: 8.0\n"
          ]
        }
      ]
    },
    {
      "cell_type": "markdown",
      "source": [
        "Write an algorithm to read three numbers then display the largest."
      ],
      "metadata": {
        "id": "o-5XhTlxE1F9"
      }
    },
    {
      "cell_type": "code",
      "source": [
        "num1 = float(input(\"Enter the first number: \"))\n",
        "num2 = float(input(\"Enter the second number: \"))\n",
        "\n",
        "largest = max(num1, num2)\n",
        "\n",
        "print(f\"The Largest number is: {largest}\")"
      ],
      "metadata": {
        "colab": {
          "base_uri": "https://localhost:8080/"
        },
        "collapsed": true,
        "id": "tbmyb_kEE1UH",
        "outputId": "62babaf7-c93c-4c28-f66b-a4c35c18c933"
      },
      "execution_count": 3,
      "outputs": [
        {
          "output_type": "stream",
          "name": "stdout",
          "text": [
            "Enter the first number: 12\n",
            "Enter the second number: 21\n",
            "The Largest number is: 21.0\n"
          ]
        }
      ]
    },
    {
      "cell_type": "markdown",
      "source": [
        "Write an algorithm to read 100 numbers then display the largest."
      ],
      "metadata": {
        "id": "KZw5_cSWE8eN"
      }
    },
    {
      "cell_type": "code",
      "source": [
        "largest = float('-inf')\n",
        "\n",
        "for _ in range(100):\n",
        "    current_number = float(input(\"Enter a number: \"))\n",
        "    if current_number > largest:\n",
        "        largest = current_number\n",
        "\n",
        "print(f\"The largest number is: {largest}\")"
      ],
      "metadata": {
        "id": "3pK2pXdnE-Ot"
      },
      "execution_count": null,
      "outputs": []
    }
  ]
}