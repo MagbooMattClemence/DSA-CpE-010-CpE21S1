{
  "nbformat": 4,
  "nbformat_minor": 0,
  "metadata": {
    "colab": {
      "provenance": [],
      "authorship_tag": "ABX9TyOCezJMMNf9ag4cdxofeuuQ",
      "include_colab_link": true
    },
    "kernelspec": {
      "name": "python3",
      "display_name": "Python 3"
    },
    "language_info": {
      "name": "python"
    }
  },
  "cells": [
    {
      "cell_type": "markdown",
      "metadata": {
        "id": "view-in-github",
        "colab_type": "text"
      },
      "source": [
        "<a href=\"https://colab.research.google.com/github/potemkin101/DSA-CpE-010-CpE21S1/blob/main/Practice_Problem.ipynb\" target=\"_parent\"><img src=\"https://colab.research.google.com/assets/colab-badge.svg\" alt=\"Open In Colab\"/></a>"
      ]
    },
    {
      "cell_type": "code",
      "execution_count": 3,
      "metadata": {
        "colab": {
          "base_uri": "https://localhost:8080/"
        },
        "id": "F8FZe-_QQGd3",
        "outputId": "c591da0c-0078-4845-82dd-b2ad1ba7447c"
      },
      "outputs": [
        {
          "output_type": "stream",
          "name": "stdout",
          "text": [
            "the sum of the even test scores is 186\n"
          ]
        }
      ],
      "source": [
        "sum=0\n",
        "scores=[26,49,98,87,62,75]\n",
        "for score in scores:\n",
        "  if score %2 == 0:\n",
        "    sum += score\n",
        "print(\"the sum of the even test scores is\",sum)"
      ]
    }
  ]
}