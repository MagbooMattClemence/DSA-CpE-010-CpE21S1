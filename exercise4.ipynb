{
  "nbformat": 4,
  "nbformat_minor": 0,
  "metadata": {
    "colab": {
      "provenance": [],
      "authorship_tag": "ABX9TyPT7ogfmAauWCJQ0UbERgdB",
      "include_colab_link": true
    },
    "kernelspec": {
      "name": "python3",
      "display_name": "Python 3"
    },
    "language_info": {
      "name": "python"
    }
  },
  "cells": [
    {
      "cell_type": "markdown",
      "metadata": {
        "id": "view-in-github",
        "colab_type": "text"
      },
      "source": [
        "<a href=\"https://colab.research.google.com/github/potemkin101/DSA-CpE-010-CpE21S1/blob/main/exercise4.ipynb\" target=\"_parent\"><img src=\"https://colab.research.google.com/assets/colab-badge.svg\" alt=\"Open In Colab\"/></a>"
      ]
    },
    {
      "cell_type": "code",
      "execution_count": 1,
      "metadata": {
        "colab": {
          "base_uri": "https://localhost:8080/"
        },
        "id": "qnBcjjka9PZU",
        "outputId": "70685fcd-43d3-4c8c-f9e0-16b528b53bed"
      },
      "outputs": [
        {
          "output_type": "stream",
          "name": "stdout",
          "text": [
            "['tac', 'god', 'hsif']\n"
          ]
        }
      ],
      "source": [
        "#reverse the characters in array\n",
        "animals=['cat','dog','fish']\n",
        "reversed_animals = [animal[::-1] for animal in animals]\n",
        "print(reversed_animals)"
      ]
    },
    {
      "cell_type": "code",
      "source": [],
      "metadata": {
        "id": "dhrfliq09Ueq"
      },
      "execution_count": null,
      "outputs": []
    }
  ]
}